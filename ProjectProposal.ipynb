{
 "cells": [
  {
   "cell_type": "markdown",
   "metadata": {},
   "source": [
    "# Project Proposal-Wine Rating Analysis and Prediction\n",
    "\n",
    "## Team Members\n",
    "Johanna Fan and Lindsey Bodenbender\n",
    "\n",
    "## Dataset Description\n",
    "- Source: https://www.kaggle.com/datasets/budnyak/wine-rating-and-price/data \n",
    "- Format: CSV files combined into a single dataset\n",
    "- Contents: Each entry includes the wine name, country of origin, wine region winery, price, year of production, and type (red, white, etc.).\n",
    "\n",
    "## Contents and Attributes\n",
    "- Name: The name of the wine.\n",
    "- Country: The country where the wine is produced.\n",
    "- Region: The specific region within the country where the wine originated.\n",
    "- Winery: The winery where the wine is produced.\n",
    "- Price: The market price of the wine.\n",
    "- Year: The vintage year of the wine.\n",
    "\n",
    "## Implementation/ Technical Merit\n",
    "This project will involve data processing to handle missing values and normalize data.\n",
    "\n",
    "## Anticipated Challenges\n",
    "- Rating distribution might be biased, which could affect the accuracy of the prediction.\n",
    "\n",
    "## Potential Impact of the Results\n",
    "Predicting wine ratings accurately can have a significant impact on both the consumer market and the wine industry. By understanding what factors most influence wine quality as perceived through ratings, producers can better align their products and production with the market demands.\n",
    "\n",
    "## Why These Results are Useful\n",
    "The results can help consumers make informed decisions, help retailers in stocking wines that meet consumer expectations, and force wineries to enhance their product quality."
   ]
  }
 ],
 "metadata": {
  "language_info": {
   "name": "python"
  }
 },
 "nbformat": 4,
 "nbformat_minor": 2
}
