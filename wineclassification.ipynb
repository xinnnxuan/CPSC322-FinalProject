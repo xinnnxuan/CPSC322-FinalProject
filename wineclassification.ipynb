{
 "cells": [
  {
   "cell_type": "markdown",
   "metadata": {},
   "source": [
    "### Wine rating classification"
   ]
  },
  {
   "cell_type": "code",
   "execution_count": 64,
   "metadata": {},
   "outputs": [],
   "source": [
    "import importlib\n",
    "\n",
    "import mysklearn.myclassifiers\n",
    "from mysklearn.myclassifiers import MyKNeighborsClassifier\n",
    "from mysklearn.myclassifiers import MyDecisionTreeClassifier\n",
    "from mysklearn.myclassifiers import MyNaiveBayesClassifier\n",
    "\n",
    "import mysklearn.myutils\n",
    "importlib.reload(mysklearn.myutils)\n",
    "import mysklearn.myutils as myutils\n",
    "\n",
    "import mysklearn.mypytable\n",
    "importlib.reload(mysklearn.mypytable)\n",
    "from mysklearn.mypytable import MyPyTable "
   ]
  },
  {
   "cell_type": "code",
   "execution_count": null,
   "metadata": {},
   "outputs": [
    {
     "name": "stdout",
     "output_type": "stream",
     "text": [
      "['Red', 'Rose', 'White', 'Sparkling']\n"
     ]
    }
   ],
   "source": [
    "mpt = MyPyTable()\n",
    "filename = \"input_data/WineRatings.csv\"\n",
    "mpt.load_from_file(filename)\n",
    "# set the Name column because didn't load properly\n",
    "mpt.column_names[0] = 'Name'"
   ]
  },
  {
   "cell_type": "markdown",
   "metadata": {},
   "source": [
    "Investigate missing values, missing values in the dataset are denoted as \"N.V.\""
   ]
  },
  {
   "cell_type": "code",
   "execution_count": 66,
   "metadata": {},
   "outputs": [
    {
     "name": "stdout",
     "output_type": "stream",
     "text": [
      "Out of 13834 rows, there are 744 rows with missing data\n",
      "attribute        min      max      mid         avg    median\n",
      "-----------  -------  -------  -------  ----------  --------\n",
      "Price           3.15  3410.79  1706.97    33.0249      15.95\n",
      "Rating          2.2      4.9      3.55     3.86566      3.9\n",
      "Year         1961     2020     1990.5   2015.53      2016\n"
     ]
    }
   ],
   "source": [
    "# count the missing values in the dataset\n",
    "count = myutils.count_nv(mpt.data)\n",
    "name_col = mpt.get_column('Name')\n",
    "dataset_len = len(name_col)\n",
    "print(f'Out of {dataset_len} rows, there are {count} rows with missing data')\n",
    "\n",
    "mpt.replace_missing_values_with_column_average('Price')\n",
    "mpt.replace_missing_values_with_column_average('Rating')\n",
    "mpt.replace_missing_values_with_column_average('Year')\n",
    "summary_table = mpt.compute_summary_statistics([\"Price\", \"Rating\", \"Year\"])\n",
    "summary_table.pretty_print()"
   ]
  },
  {
   "cell_type": "code",
   "execution_count": 67,
   "metadata": {},
   "outputs": [
    {
     "name": "stdout",
     "output_type": "stream",
     "text": [
      "column names ['Name', 'Country', 'Region', 'Winery', 'Rating', 'NumberOfRatings', 'Price', 'Year', 'Winestyle']\n",
      "13834\n",
      "There are 10934 unique names\n"
     ]
    }
   ],
   "source": [
    "# convert to numerical\n",
    "print('column names', mpt.column_names)\n",
    "name_col = mpt.get_column('Name')\n",
    "country_col = mpt.get_column('Country')\n",
    "region_col = mpt.get_column('Region')\n",
    "winery_col = mpt.get_column('Winery')\n",
    "rating_col = mpt.get_column('Rating')\n",
    "num_ratings_col = mpt.get_column('NumberOfRatings')\n",
    "price_col = mpt.get_column('Price')\n",
    "year_col = mpt.get_column('Year')\n",
    "winestyle_col = mpt.get_column('Winestyle')\n",
    "\n",
    "unique_names = myutils.get_unique_labels(name_col)\n",
    "unique_countries = myutils.get_unique_labels(country_col)\n",
    "unique_regions = myutils.get_unique_labels(region_col)\n",
    "unique_wineries = myutils.get_unique_labels(winery_col)\n",
    "unique_ratings = myutils.get_unique_labels(rating_col)\n",
    "unique_num_ratings = myutils.get_unique_labels(num_ratings_col)\n",
    "unique_prices = myutils.get_unique_labels(price_col)\n",
    "unique_years = myutils.get_unique_labels(year_col)\n",
    "unique_winestyles = myutils.get_unique_labels(winestyle_col)\n",
    "\n",
    "num_unique_names = len(unique_names)\n",
    "print(len(name_col))\n",
    "\n",
    "print(f'There are {num_unique_names} unique names')"
   ]
  },
  {
   "cell_type": "code",
   "execution_count": 68,
   "metadata": {},
   "outputs": [],
   "source": [
    "knn_classifier = MyKNeighborsClassifier()\n"
   ]
  }
 ],
 "metadata": {
  "kernelspec": {
   "display_name": "base",
   "language": "python",
   "name": "python3"
  },
  "language_info": {
   "codemirror_mode": {
    "name": "ipython",
    "version": 3
   },
   "file_extension": ".py",
   "mimetype": "text/x-python",
   "name": "python",
   "nbconvert_exporter": "python",
   "pygments_lexer": "ipython3",
   "version": "3.12.4"
  }
 },
 "nbformat": 4,
 "nbformat_minor": 2
}
