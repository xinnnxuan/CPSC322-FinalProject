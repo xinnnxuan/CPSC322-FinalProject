{
 "cells": [
  {
   "cell_type": "markdown",
   "metadata": {},
   "source": [
    "### Wine rating classification"
   ]
  },
  {
   "cell_type": "code",
   "execution_count": null,
   "metadata": {},
   "outputs": [],
   "source": [
    "import importlib\n",
    "\n",
    "import mysklearn.myutils\n",
    "importlib.reload(mysklearn.myutils)\n",
    "import mysklearn.myutils as myutils\n",
    "\n",
    "import mysklearn.mypytable\n",
    "importlib.reload(mysklearn.mypytable)\n",
    "from mysklearn.mypytable import MyPyTable "
   ]
  },
  {
   "cell_type": "code",
   "execution_count": null,
   "metadata": {},
   "outputs": [
    {
     "ename": "TypeError",
     "evalue": "'<' not supported between instances of 'str' and 'float'",
     "output_type": "error",
     "traceback": [
      "\u001b[0;31m---------------------------------------------------------------------------\u001b[0m",
      "\u001b[0;31mTypeError\u001b[0m                                 Traceback (most recent call last)",
      "Cell \u001b[0;32mIn[40], line 6\u001b[0m\n\u001b[1;32m      3\u001b[0m mpt\u001b[38;5;241m.\u001b[39mload_from_file(filename)\n\u001b[1;32m      5\u001b[0m winestyle \u001b[38;5;241m=\u001b[39m mpt\u001b[38;5;241m.\u001b[39mget_column(\u001b[38;5;124m\"\u001b[39m\u001b[38;5;124mWinestyle\u001b[39m\u001b[38;5;124m\"\u001b[39m)\n\u001b[0;32m----> 6\u001b[0m summary_table \u001b[38;5;241m=\u001b[39m mpt\u001b[38;5;241m.\u001b[39mcompute_summary_statistics([\u001b[38;5;124m\"\u001b[39m\u001b[38;5;124mPrice\u001b[39m\u001b[38;5;124m\"\u001b[39m, \u001b[38;5;124m\"\u001b[39m\u001b[38;5;124mRating\u001b[39m\u001b[38;5;124m\"\u001b[39m, \u001b[38;5;124m\"\u001b[39m\u001b[38;5;124mYear\u001b[39m\u001b[38;5;124m\"\u001b[39m])\n\u001b[1;32m      7\u001b[0m summary_table\u001b[38;5;241m.\u001b[39mpretty_print()\n\u001b[1;32m      8\u001b[0m winestyles \u001b[38;5;241m=\u001b[39m myutils\u001b[38;5;241m.\u001b[39mget_unique_labels(winestyle)\n",
      "File \u001b[0;32m/home/CPSC322-FinalProject/mysklearn/mypytable.py:286\u001b[0m, in \u001b[0;36mMyPyTable.compute_summary_statistics\u001b[0;34m(self, col_names)\u001b[0m\n\u001b[1;32m    284\u001b[0m mid \u001b[38;5;241m=\u001b[39m \u001b[38;5;28mself\u001b[39m\u001b[38;5;241m.\u001b[39mfind_mid(column)\n\u001b[1;32m    285\u001b[0m avg \u001b[38;5;241m=\u001b[39m \u001b[38;5;28mself\u001b[39m\u001b[38;5;241m.\u001b[39mcalculate_average(i)\n\u001b[0;32m--> 286\u001b[0m median \u001b[38;5;241m=\u001b[39m \u001b[38;5;28mself\u001b[39m\u001b[38;5;241m.\u001b[39mfind_median(column)\n\u001b[1;32m    288\u001b[0m row\u001b[38;5;241m.\u001b[39mappend(i)\n\u001b[1;32m    289\u001b[0m row\u001b[38;5;241m.\u001b[39mappend(col_min)\n",
      "File \u001b[0;32m/home/CPSC322-FinalProject/mysklearn/mypytable.py:329\u001b[0m, in \u001b[0;36mMyPyTable.find_median\u001b[0;34m(self, column)\u001b[0m\n\u001b[1;32m    327\u001b[0m \u001b[38;5;250m\u001b[39m\u001b[38;5;124;03m\"\"\" Function to find the median value of the column\"\"\"\u001b[39;00m\n\u001b[1;32m    328\u001b[0m \u001b[38;5;28;01mif\u001b[39;00m \u001b[38;5;28misinstance\u001b[39m(column[\u001b[38;5;241m0\u001b[39m], \u001b[38;5;28mint\u001b[39m) \u001b[38;5;129;01mor\u001b[39;00m \u001b[38;5;28misinstance\u001b[39m(column[\u001b[38;5;241m0\u001b[39m], \u001b[38;5;28mfloat\u001b[39m):\n\u001b[0;32m--> 329\u001b[0m     col_sorted \u001b[38;5;241m=\u001b[39m \u001b[38;5;28msorted\u001b[39m(column)\n\u001b[1;32m    330\u001b[0m     mid_index \u001b[38;5;241m=\u001b[39m \u001b[38;5;28mlen\u001b[39m(col_sorted) \u001b[38;5;241m/\u001b[39m\u001b[38;5;241m/\u001b[39m \u001b[38;5;241m2\u001b[39m\n\u001b[1;32m    331\u001b[0m \u001b[38;5;66;03m# if the length of the sorted column is divisible by 2 (if its even)\u001b[39;00m\n\u001b[1;32m    332\u001b[0m     \u001b[38;5;66;03m# the median is equal to the average of the values at the two middle indexes\u001b[39;00m\n",
      "\u001b[0;31mTypeError\u001b[0m: '<' not supported between instances of 'str' and 'float'"
     ]
    }
   ],
   "source": [
    "mpt = MyPyTable()\n",
    "filename = \"input_data/WineRatings.csv\"\n",
    "mpt.load_from_file(filename)\n",
    "\n",
    "winestyle = mpt.get_column(\"Winestyle\")\n",
    "# TODO handle missing values\n",
    "summary_table = mpt.compute_summary_statistics([\"Price\", \"Rating\", \"Year\"])\n",
    "summary_table.pretty_print()\n",
    "winestyles = myutils.get_unique_labels(winestyle)\n",
    "print(winestyles)"
   ]
  }
 ],
 "metadata": {
  "kernelspec": {
   "display_name": "base",
   "language": "python",
   "name": "python3"
  },
  "language_info": {
   "codemirror_mode": {
    "name": "ipython",
    "version": 3
   },
   "file_extension": ".py",
   "mimetype": "text/x-python",
   "name": "python",
   "nbconvert_exporter": "python",
   "pygments_lexer": "ipython3",
   "version": "3.12.4"
  }
 },
 "nbformat": 4,
 "nbformat_minor": 2
}
