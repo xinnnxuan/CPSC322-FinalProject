{
 "cells": [
  {
   "cell_type": "markdown",
   "metadata": {},
   "source": [
    "### Wine rating classification"
   ]
  },
  {
   "cell_type": "code",
   "execution_count": 1,
   "metadata": {},
   "outputs": [],
   "source": [
    "import importlib\n",
    "\n",
    "import mysklearn.myutils\n",
    "importlib.reload(mysklearn.myutils)\n",
    "import mysklearn.myutils as myutils\n",
    "\n",
    "import mysklearn.mypytable\n",
    "importlib.reload(mysklearn.mypytable)\n",
    "from mysklearn.mypytable import MyPyTable "
   ]
  },
  {
   "cell_type": "code",
   "execution_count": 2,
   "metadata": {},
   "outputs": [
    {
     "name": "stdout",
     "output_type": "stream",
     "text": [
      "['Red', 'Rose', 'White', 'Sparkling']\n"
     ]
    }
   ],
   "source": [
    "mpt = MyPyTable()\n",
    "filename = \"input_data/WineRatings.csv\"\n",
    "mpt.load_from_file(filename)\n",
    "mpt.column_names[0] = 'Name'\n",
    "\n",
    "winestyle = mpt.get_column(\"Winestyle\")\n",
    "winestyles = myutils.get_unique_labels(winestyle)\n",
    "print(winestyles)"
   ]
  },
  {
   "cell_type": "markdown",
   "metadata": {},
   "source": [
    "Investigate missing values, missing values in the dataset are denoted as \"N.V.\""
   ]
  },
  {
   "cell_type": "code",
   "execution_count": 3,
   "metadata": {},
   "outputs": [
    {
     "name": "stdout",
     "output_type": "stream",
     "text": [
      "There are 744 rows with missing data\n",
      "attribute        min      max      mid         avg    median\n",
      "-----------  -------  -------  -------  ----------  --------\n",
      "Price           3.15  3410.79  1706.97    33.0249      15.95\n",
      "Rating          2.2      4.9      3.55     3.86566      3.9\n",
      "Year         1961     2020     1990.5   2015.53      2016\n",
      "There are 0 rows with missing data\n"
     ]
    }
   ],
   "source": [
    "# count the missing values in the dataset\n",
    "count = myutils.count_nv(mpt.data)\n",
    "print(f'There are {count} rows with missing data')\n",
    "\n",
    "mpt.replace_missing_values_with_column_average('Price')\n",
    "mpt.replace_missing_values_with_column_average('Rating')\n",
    "mpt.replace_missing_values_with_column_average('Year')\n",
    "summary_table = mpt.compute_summary_statistics([\"Price\", \"Rating\", \"Year\"])\n",
    "summary_table.pretty_print()\n",
    "\n",
    "# count the missing values in the dataset\n",
    "count = myutils.count_nv(mpt.data)\n",
    "print(f'There are {count} rows with missing data')"
   ]
  }
 ],
 "metadata": {
  "kernelspec": {
   "display_name": "base",
   "language": "python",
   "name": "python3"
  },
  "language_info": {
   "codemirror_mode": {
    "name": "ipython",
    "version": 3
   },
   "file_extension": ".py",
   "mimetype": "text/x-python",
   "name": "python",
   "nbconvert_exporter": "python",
   "pygments_lexer": "ipython3",
   "version": "3.12.4"
  }
 },
 "nbformat": 4,
 "nbformat_minor": 2
}
