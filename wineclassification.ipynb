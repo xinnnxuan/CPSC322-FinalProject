{
 "cells": [
  {
   "cell_type": "markdown",
   "metadata": {},
   "source": [
    "### Wine rating classification"
   ]
  },
  {
   "cell_type": "code",
   "execution_count": 6,
   "metadata": {},
   "outputs": [
    {
     "ename": "ImportError",
     "evalue": "cannot import name 'MyKNeighborsClassifier' from partially initialized module 'mysklearn.myclassifiers' (most likely due to a circular import) (/home/CPSC322-FinalProject/mysklearn/myclassifiers.py)",
     "output_type": "error",
     "traceback": [
      "\u001b[0;31m---------------------------------------------------------------------------\u001b[0m",
      "\u001b[0;31mImportError\u001b[0m                               Traceback (most recent call last)",
      "Cell \u001b[0;32mIn[6], line 3\u001b[0m\n\u001b[1;32m      1\u001b[0m \u001b[38;5;28;01mimport\u001b[39;00m \u001b[38;5;21;01mimportlib\u001b[39;00m\n\u001b[0;32m----> 3\u001b[0m \u001b[38;5;28;01mimport\u001b[39;00m \u001b[38;5;21;01mmysklearn\u001b[39;00m\u001b[38;5;21;01m.\u001b[39;00m\u001b[38;5;21;01mmyclassifiers\u001b[39;00m\n\u001b[1;32m      4\u001b[0m importlib\u001b[38;5;241m.\u001b[39mreload(mysklearn\u001b[38;5;241m.\u001b[39mmyclassifiers)\n\u001b[1;32m      5\u001b[0m \u001b[38;5;28;01mfrom\u001b[39;00m \u001b[38;5;21;01mmysklearn\u001b[39;00m\u001b[38;5;21;01m.\u001b[39;00m\u001b[38;5;21;01mmyclassifiers\u001b[39;00m \u001b[38;5;28;01mimport\u001b[39;00m MyKNeighborsClassifier, MyDecisionTreeClassifier, MyNaiveBayesClassifier\n",
      "File \u001b[0;32m/home/CPSC322-FinalProject/mysklearn/myclassifiers.py:8\u001b[0m\n\u001b[1;32m      1\u001b[0m \u001b[38;5;124;03m\"\"\"Programmer: Lindsey Bodenbender\u001b[39;00m\n\u001b[1;32m      2\u001b[0m \u001b[38;5;124;03mClass: CPSC 322 Fall 2024\u001b[39;00m\n\u001b[1;32m      3\u001b[0m \u001b[38;5;124;03m11/18/2024\u001b[39;00m\n\u001b[1;32m      4\u001b[0m \n\u001b[1;32m      5\u001b[0m \u001b[38;5;124;03mDescription: Classes to represent several different classifiers\"\"\"\u001b[39;00m\n\u001b[1;32m      7\u001b[0m \u001b[38;5;28;01mfrom\u001b[39;00m \u001b[38;5;21;01mmysklearn\u001b[39;00m \u001b[38;5;28;01mimport\u001b[39;00m myutils\n\u001b[0;32m----> 8\u001b[0m \u001b[38;5;28;01mimport\u001b[39;00m \u001b[38;5;21;01moperator\u001b[39;00m\n\u001b[1;32m      9\u001b[0m \u001b[38;5;28;01mfrom\u001b[39;00m \u001b[38;5;21;01mmysklearn\u001b[39;00m \u001b[38;5;28;01mimport\u001b[39;00m myutils\n\u001b[1;32m     10\u001b[0m \u001b[38;5;28;01mimport\u001b[39;00m \u001b[38;5;21;01mnumpy\u001b[39;00m \u001b[38;5;28;01mas\u001b[39;00m \u001b[38;5;21;01mnp\u001b[39;00m\n",
      "File \u001b[0;32m/home/CPSC322-FinalProject/mysklearn/myutils.py:8\u001b[0m\n\u001b[1;32m      1\u001b[0m \u001b[38;5;124;03m\"\"\"Programmer: Lindsey Bodenbender\u001b[39;00m\n\u001b[1;32m      2\u001b[0m \u001b[38;5;124;03mClass: CPSC 322 Fall 2024\u001b[39;00m\n\u001b[1;32m      3\u001b[0m \u001b[38;5;124;03m11/18/2024\u001b[39;00m\n\u001b[1;32m      4\u001b[0m \n\u001b[1;32m      5\u001b[0m \u001b[38;5;124;03mDescription: General utility functions\"\"\"\u001b[39;00m\n\u001b[1;32m      7\u001b[0m \u001b[38;5;28;01mimport\u001b[39;00m \u001b[38;5;21;01mnumpy\u001b[39;00m \u001b[38;5;28;01mas\u001b[39;00m \u001b[38;5;21;01mnp\u001b[39;00m\n\u001b[0;32m----> 8\u001b[0m \u001b[38;5;28;01mfrom\u001b[39;00m \u001b[38;5;21;01mmysklearn\u001b[39;00m\u001b[38;5;21;01m.\u001b[39;00m\u001b[38;5;21;01mmyclassifiers\u001b[39;00m \u001b[38;5;28;01mimport\u001b[39;00m MyKNeighborsClassifier\n\u001b[1;32m      9\u001b[0m \u001b[38;5;28;01mfrom\u001b[39;00m \u001b[38;5;21;01mmysklearn\u001b[39;00m\u001b[38;5;21;01m.\u001b[39;00m\u001b[38;5;21;01mmypytable\u001b[39;00m \u001b[38;5;28;01mimport\u001b[39;00m MyPyTable\n\u001b[1;32m     11\u001b[0m X_train \u001b[38;5;241m=\u001b[39m [\n\u001b[1;32m     12\u001b[0m         [\u001b[38;5;124m\"\u001b[39m\u001b[38;5;124mSenior\u001b[39m\u001b[38;5;124m\"\u001b[39m, \u001b[38;5;124m\"\u001b[39m\u001b[38;5;124mJava\u001b[39m\u001b[38;5;124m\"\u001b[39m, \u001b[38;5;124m\"\u001b[39m\u001b[38;5;124mno\u001b[39m\u001b[38;5;124m\"\u001b[39m, \u001b[38;5;124m\"\u001b[39m\u001b[38;5;124mno\u001b[39m\u001b[38;5;124m\"\u001b[39m],\n\u001b[1;32m     13\u001b[0m         [\u001b[38;5;124m\"\u001b[39m\u001b[38;5;124mSenior\u001b[39m\u001b[38;5;124m\"\u001b[39m, \u001b[38;5;124m\"\u001b[39m\u001b[38;5;124mJava\u001b[39m\u001b[38;5;124m\"\u001b[39m, \u001b[38;5;124m\"\u001b[39m\u001b[38;5;124mno\u001b[39m\u001b[38;5;124m\"\u001b[39m, \u001b[38;5;124m\"\u001b[39m\u001b[38;5;124myes\u001b[39m\u001b[38;5;124m\"\u001b[39m],\n\u001b[0;32m   (...)\u001b[0m\n\u001b[1;32m     25\u001b[0m         [\u001b[38;5;124m\"\u001b[39m\u001b[38;5;124mJunior\u001b[39m\u001b[38;5;124m\"\u001b[39m, \u001b[38;5;124m\"\u001b[39m\u001b[38;5;124mPython\u001b[39m\u001b[38;5;124m\"\u001b[39m, \u001b[38;5;124m\"\u001b[39m\u001b[38;5;124mno\u001b[39m\u001b[38;5;124m\"\u001b[39m, \u001b[38;5;124m\"\u001b[39m\u001b[38;5;124myes\u001b[39m\u001b[38;5;124m\"\u001b[39m]\n\u001b[1;32m     26\u001b[0m     ] \n",
      "\u001b[0;31mImportError\u001b[0m: cannot import name 'MyKNeighborsClassifier' from partially initialized module 'mysklearn.myclassifiers' (most likely due to a circular import) (/home/CPSC322-FinalProject/mysklearn/myclassifiers.py)"
     ]
    }
   ],
   "source": [
    "import importlib\n",
    "\n",
    "import mysklearn.myclassifiers\n",
    "importlib.reload(mysklearn.myclassifiers)\n",
    "from mysklearn.myclassifiers import MyKNeighborsClassifier, MyDecisionTreeClassifier, MyNaiveBayesClassifier\n",
    "\n",
    "import mysklearn.myutils\n",
    "importlib.reload(mysklearn.myutils)\n",
    "import mysklearn.myutils as myutils\n",
    "\n",
    "import mysklearn.mypytable\n",
    "importlib.reload(mysklearn.mypytable)\n",
    "from mysklearn.mypytable import MyPyTable \n",
    "\n",
    "import matplotlib.pyplot as plt\n",
    "import seaborn as sns"
   ]
  },
  {
   "cell_type": "code",
   "execution_count": null,
   "metadata": {},
   "outputs": [],
   "source": [
    "mpt = MyPyTable()\n",
    "filename = \"input_data/WineRatings.csv\"\n",
    "mpt.load_from_file(filename)\n",
    "# set the Name column because didn't load properly\n",
    "mpt.column_names[0] = 'Name'"
   ]
  },
  {
   "cell_type": "markdown",
   "metadata": {},
   "source": [
    "Investigate missing values, missing values in the dataset are denoted as \"N.V.\""
   ]
  },
  {
   "cell_type": "code",
   "execution_count": null,
   "metadata": {},
   "outputs": [
    {
     "name": "stdout",
     "output_type": "stream",
     "text": [
      "Out of 13834 rows, there are 744 rows with missing data\n",
      "attribute        min      max      mid         avg    median\n",
      "-----------  -------  -------  -------  ----------  --------\n",
      "Price           3.15  3410.79  1706.97    33.0249      15.95\n",
      "Rating          2.2      4.9      3.55     3.86566      3.9\n",
      "Year         1961     2020     1990.5   2015.53      2016\n"
     ]
    }
   ],
   "source": [
    "# count the missing values in the dataset\n",
    "count = myutils.count_nv(mpt.data)\n",
    "name_col = mpt.get_column('Name')\n",
    "dataset_len = len(name_col)\n",
    "print(f'Out of {dataset_len} rows, there are {count} rows with missing data')\n",
    "\n",
    "mpt.replace_missing_values_with_column_average('Price')\n",
    "mpt.replace_missing_values_with_column_average('Rating')\n",
    "mpt.replace_missing_values_with_column_average('Year')\n",
    "summary_table = mpt.compute_summary_statistics([\"Price\", \"Rating\", \"Year\"])\n",
    "summary_table.pretty_print()"
   ]
  },
  {
   "cell_type": "code",
   "execution_count": null,
   "metadata": {},
   "outputs": [
    {
     "name": "stdout",
     "output_type": "stream",
     "text": [
      "column names ['Name', 'Country', 'Region', 'Winery', 'Rating', 'NumberOfRatings', 'Price', 'Year', 'Winestyle']\n",
      "There are 10934 unique names\n",
      "There are 33 unique countries\n",
      "There are 861 unique regions\n",
      "There are 3505 unique wineries\n",
      "There are 26 unique ratings\n",
      "There are 1821 unique number Of Ratings\n",
      "There are 3008 unique prices\n",
      "There are 33 unique years\n",
      "There are 4 unique winestyles\n"
     ]
    }
   ],
   "source": [
    "# convert to numerical\n",
    "print('column names', mpt.column_names)\n",
    "\n",
    "name_col = mpt.get_column('Name')\n",
    "country_col = mpt.get_column('Country')\n",
    "region_col = mpt.get_column('Region')\n",
    "winery_col = mpt.get_column('Winery')\n",
    "rating_col = mpt.get_column('Rating')\n",
    "num_ratings_col = mpt.get_column('NumberOfRatings')\n",
    "price_col = mpt.get_column('Price')\n",
    "year_col = mpt.get_column('Year')\n",
    "winestyle_col = mpt.get_column('Winestyle')\n",
    "\n",
    "unique_names = myutils.get_unique_labels(name_col)\n",
    "unique_countries = myutils.get_unique_labels(country_col)\n",
    "unique_regions = myutils.get_unique_labels(region_col)\n",
    "unique_wineries = myutils.get_unique_labels(winery_col)\n",
    "unique_ratings = myutils.get_unique_labels(rating_col)\n",
    "unique_num_ratings = myutils.get_unique_labels(num_ratings_col)\n",
    "unique_prices = myutils.get_unique_labels(price_col)\n",
    "unique_years = myutils.get_unique_labels(year_col)\n",
    "unique_winestyles = myutils.get_unique_labels(winestyle_col)\n",
    "\n",
    "myutils.display_num_unique_labels(unique_names, 'names') \n",
    "myutils.display_num_unique_labels(unique_countries, 'countries')\n",
    "myutils.display_num_unique_labels(unique_regions, 'regions')\n",
    "myutils.display_num_unique_labels(unique_wineries, 'wineries')\n",
    "myutils.display_num_unique_labels(unique_ratings, 'ratings')\n",
    "myutils.display_num_unique_labels(unique_num_ratings, 'number Of Ratings')\n",
    "myutils.display_num_unique_labels(unique_prices, 'prices')\n",
    "myutils.display_num_unique_labels(unique_years, 'years')\n",
    "myutils.display_num_unique_labels(unique_winestyles, 'winestyles')"
   ]
  },
  {
   "cell_type": "code",
   "execution_count": null,
   "metadata": {},
   "outputs": [],
   "source": [
    "country_region_winery = myutils.combine_cols(country_col, region_col, winery_col)\n",
    "X_train = myutils.reformat_cols(country_region_winery, country_col, region_col, winery_col)\n",
    "y_train = rating_col\n",
    "\n",
    "knn_classifier = MyKNeighborsClassifier()\n"
   ]
  }
 ],
 "metadata": {
  "kernelspec": {
   "display_name": "base",
   "language": "python",
   "name": "python3"
  },
  "language_info": {
   "codemirror_mode": {
    "name": "ipython",
    "version": 3
   },
   "file_extension": ".py",
   "mimetype": "text/x-python",
   "name": "python",
   "nbconvert_exporter": "python",
   "pygments_lexer": "ipython3",
   "version": "3.12.4"
  }
 },
 "nbformat": 4,
 "nbformat_minor": 2
}
