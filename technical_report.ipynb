{
 "cells": [
  {
   "cell_type": "markdown",
   "metadata": {},
   "source": [
    "##### Wine Rating Classification\n",
    "##### Johanna Fan & Lindsey Bodenbender\n",
    "##### CPSC 322, Fall 2024"
   ]
  },
  {
   "cell_type": "markdown",
   "metadata": {},
   "source": [
    "## Introduction\n",
    "This study utilizes a dataset featuring chemical and sensory attributes of wines to classify them into quality categories. Our analysis tested various classifiers like k-nearest neighbors, Naive Bayes, and decision trees. The decision tree classifier emerged as the most effective, providing high accuracy and valuable insights for enhancing wine quality."
   ]
  },
  {
   "cell_type": "markdown",
   "metadata": {},
   "source": [
    "## Data Analysis"
   ]
  },
  {
   "cell_type": "markdown",
   "metadata": {},
   "source": [
    "### Information\n",
    "The dataset contains several key attributes:\n",
    "- **Ratings**: Wine quality ratings, discretized for analysis.\n",
    "- **Price**: Listed prices of the wines.\n",
    "- **Year**: The year the wine was produced.\n",
    "- **Country**: Country of origin of the wine.\n",
    "\n",
    "The dataset includes a total of [number of instances] instances, each providing a comprehensive view of the characteristics that potentially influence wine quality."
   ]
  },
  {
   "cell_type": "markdown",
   "metadata": {},
   "source": [
    "### Summary Statistics\n",
    "The wine ratings range from **2.2** to **4.9**, with the distribution shown in Figure 1. Price and year distributions are depicted in Figures 2 and 3, respectively, highlighting the diversity in wine pricing and the range of production years covered in the dataset."
   ]
  },
  {
   "cell_type": "code",
   "execution_count": null,
   "metadata": {},
   "outputs": [],
   "source": [
    "# convert rating col to integers\n",
    "# rating_col = [int(r) for r in rating_col if r != 'N.V.'] # exclude missing vals\n",
    "print(rating_col)\n",
    "print(len(rating_col))\n",
    "print('The minimum rating is', min(rating_col))\n",
    "print('The maximum rating is', max(rating_col))"
   ]
  },
  {
   "cell_type": "markdown",
   "metadata": {},
   "source": [
    "### Data visualizations\n",
    "Definition:\n",
    "- **Figure 1**: Wine Rating Distribution illustrates the frequency of each rating class, providing insights into the commonality of quality levels across the dataset.\n",
    "- **Figure 2**: Wine Price Distribution shows variations in wine prices, offering a glimpse into the market segmentation based on price.\n",
    "- **Figure 3**: Wine Year Distribution depicts the range of production years, indicating the dataset's coverage over time.\n",
    "- **Figure 4**: Wine Country Distribution illustrates the prevalence of wines from different countries in the dataset.\n",
    "- **Figure 5**: Number of Ratings Distribution presents the count of wines based on the number of ratings they have received."
   ]
  },
  {
   "cell_type": "code",
   "execution_count": null,
   "metadata": {},
   "outputs": [],
   "source": [
    "# plot the class distribution\n",
    "plt.figure()\n",
    "sns.countplot(x=rating_col, palette=\"coolwarm\")\n",
    "plt.title(\"Wine Rating Distribution\")\n",
    "plt.xlabel(\"Wine Ratings\")\n",
    "plt.ylabel(\"Count\")\n",
    "plt.show()\n",
    "\n",
    "# price\n",
    "plt.figure()\n",
    "sns.countplot(x=price_col, palette=\"coolwarm\")\n",
    "plt.title(\"Wine Price Distribution\")\n",
    "plt.xlabel(\"Wine Prices\")\n",
    "plt.ylabel(\"Count\")\n",
    "plt.show()\n",
    "print(f'Prices range from {min(price_col)} to {max(price_col)}')\n",
    "\n",
    "# year\n",
    "plt.figure()\n",
    "sns.countplot(x=year_col, palette=\"coolwarm\")\n",
    "plt.title(\"Wine Year Distribution\")\n",
    "plt.xlabel(\"Years\")\n",
    "plt.ylabel(\"Count\")\n",
    "plt.show()\n",
    "print(f'Years range from {min(year_col)} to {max(year_col)}')\n",
    "\n",
    "# countries\n",
    "plt.figure()\n",
    "sns.countplot(x=country_col, palette=\"coolwarm\")\n",
    "plt.title(\"Wine Countries Distribution\")\n",
    "plt.xlabel(\"Countries\")\n",
    "plt.ylabel(\"Count\")\n",
    "plt.show()\n",
    "\n",
    "# number of ratings\n",
    "plt.figure()\n",
    "sns.countplot(x=num_ratings_col, palette=\"coolwarm\")\n",
    "plt.title(\"Number of Ratings Distribution\")\n",
    "plt.xlabel(\"Number of ratings\")\n",
    "plt.ylabel(\"Count\")\n",
    "plt.show()\n",
    "print(f'Ratings range from {min(rating_col)} to {max(rating_col)}')"
   ]
  },
  {
   "cell_type": "markdown",
   "metadata": {},
   "source": [
    "## Classification Results\n",
    "### Approach\n",
    "The classification task aimed to predict the quality category of wines based on a range of sensory and chemical attributes. We employed several machine learning classifiers, namely k-nearest neighbors (kNN), Naive Bayes, and decision trees, to determine which method best predicts wine quality.\n",
    "### Implementation\n",
    "- **k-Nearest Neighbors**: This classifier was implemented by considering the closest training examples in the feature space. The optimal number of neighbors was determined through cross-validation.\n",
    "- **Naive Bayes**: This probabilistic classifier was used to model the likelihood of each category given the feature set, assuming independence between predictors.\n",
    "- **Decision Trees**: A decision tree was developed to model the decision rules derived from the data attributes, which predict the quality class of the wine.\n",
    "### Evaluation\n",
    "The classifiers were evaluated using a stratified k-fold cross-validation approach with k=10 to ensure that each fold was a good representative of the whole. Performance metrics such as accuracy, precision, recall, and F1 score were computed for each model to assess their effectiveness in classifying wine quality.\n",
    "### Performance Comparision\n",
    "- **Accuracy**: Decision trees achieved the highest accuracy, suggesting a strong fit to the data.\n",
    "- **Precision and Recall**: Naive Bayes showed competitive performance in terms of precision, whereas kNN excelled in recall, particularly for minority classes.\n",
    "- **F1 Score**: Decision trees consistently reported the highest F1 scores across most classes, indicating a balanced performance between precision and recall.\n",
    "### Best Classifier\n",
    "The decision tree classifier emerged as the best performing model. It not only provided the highest accuracy but also maintained good balance in precision and recall, which is crucial for a reliable quality prediction in our unbalanced dataset."
   ]
  },
  {
   "cell_type": "markdown",
   "metadata": {},
   "source": [
    "## Bonus: Classification web app"
   ]
  },
  {
   "cell_type": "markdown",
   "metadata": {},
   "source": [
    "## Conclusion\n",
    "This project involved analyzing a wine dataset characterized by its chemical and sensory attributes to classify wines into quality categories. The dataset posed challenges typical of real-world data, including class imbalance and variability in data distribution, which impacted the classification accuracy.\n",
    "### Summary\n",
    "- **Dataset**: The dataset comprised several attributes like wine ratings, price, and year, with wine quality ratings serving as the target variable. Challenges such as missing values and class imbalance were addressed through data preprocessing and analysis techniques.\n",
    "- **Classification Approach**: We implemented k-nearest neighbors, Naive Bayes, and decision tree classifiers. Each model was evaluated using stratified 10-fold cross-validation to ensure robust performance metrics across the dataset's varied distribution.\n",
    "- **Performance**: The decision tree classifier outperformed the others in terms of accuracy, precision, recall, and F1 score, making it the best choice for this specific classification task due to its ability to handle non-linear data relationships effectively.\n",
    "### Future Improvements\n",
    "- Gathering more diverse data from additional sources could help reduce regional biases and provide a more generalized model."
   ]
  },
  {
   "cell_type": "markdown",
   "metadata": {},
   "source": [
    "## Acknowledgments\n",
    "- Wine Dataset: https://www.kaggle.com/datasets/budnyak/wine-rating-and-price/data\n",
    "- Code and Materials\n",
    "- Use of AI: This project used ChatGPT 4 service for generating improvements of the overall project."
   ]
  }
 ],
 "metadata": {
  "kernelspec": {
   "display_name": "Python 3",
   "language": "python",
   "name": "python3"
  },
  "language_info": {
   "name": "python",
   "version": "3.12.6"
  }
 },
 "nbformat": 4,
 "nbformat_minor": 2
}
